{
 "cells": [
  {
   "cell_type": "code",
   "execution_count": 21,
   "id": "bccfea95-af39-488f-a1e3-6a32bfc2ec58",
   "metadata": {},
   "outputs": [],
   "source": [
    "import csv\n",
    "from selenium import webdriver\n",
    "from selenium.webdriver.common.by import By\n",
    "from selenium.webdriver.common.keys import Keys\n",
    "from time import sleep\n",
    "from datetime import datetime, timedelta"
   ]
  },
  {
   "cell_type": "code",
   "execution_count": 26,
   "id": "dcd89e04-52e1-411c-9fb0-8a40ce7891f0",
   "metadata": {},
   "outputs": [],
   "source": [
    "driver = webdriver.Chrome()\n",
    "\n",
    "# لیست ذخیره قیمت‌ها\n",
    "price_history = []"
   ]
  },
  {
   "cell_type": "code",
   "execution_count": 23,
   "id": "6d1f77a0-6b38-441f-8c8a-570a50b99c3d",
   "metadata": {},
   "outputs": [],
   "source": [
    "def save_to_csv():\n",
    "    \"\"\"ذخیره داده‌ها در فایل CSV\"\"\"\n",
    "    with open('gold_prices.csv', 'w', newline='', encoding='utf-8') as file:\n",
    "        writer = csv.writer(file)\n",
    "        writer.writerow([\"Time\", \"Open\", \"High\", \"Low\", \"Close\", \"Position\"])\n",
    "        writer.writerows(price_history)"
   ]
  },
  {
   "cell_type": "code",
   "execution_count": 27,
   "id": "e5610342-1561-4d6c-b12e-a57566cfd1de",
   "metadata": {},
   "outputs": [
    {
     "name": "stdout",
     "output_type": "stream",
     "text": [
      "ورود موفقیت‌آمیز!\n"
     ]
    },
    {
     "name": "stdin",
     "output_type": "stream",
     "text": [
      "ok? ---------->  \n"
     ]
    }
   ],
   "source": [
    "try:\n",
    "\n",
    "    driver.get(\"https://www.tradingview.com/\")\n",
    "    \n",
    "    \n",
    "    www = driver.find_element(By.CLASS_NAME,'tv-header__user-menu-button')\n",
    "    www.click()\n",
    "    sleep(5)\n",
    "    login_button = driver.find_element(By.CSS_SELECTOR, \"button[data-name='header-user-menu-sign-in']\")\n",
    "    login_button.click()\n",
    "    \n",
    "    \n",
    "    sleep(5)\n",
    "    \n",
    "    \n",
    "    iframe = driver.find_element(By.NAME, \"Email\")\n",
    "    \n",
    "    iframe.click()\n",
    "    \n",
    "    username = driver.find_element(By.NAME, \"id_username\")\n",
    "    password = driver.find_element(By.NAME, \"id_password\")\n",
    "    username.send_keys(\"me.anooshi@gmail.com\")  # نام کاربری خود را اینجا وارد کنید\n",
    "    password.send_keys(\"mobin@nooshi2003\")  # رمز عبور خود را اینجا وارد کنید\n",
    "    password.send_keys(Keys.RETURN)\n",
    "    \n",
    "    driver.switch_to.default_content()\n",
    "    \n",
    "    \n",
    "    \n",
    "    print(\"ورود موفقیت‌آمیز!\")\n",
    "    input('ok? ----------> ') # منتظر تایید کپچا\n",
    "    sleep(5)\n",
    "    \n",
    "    \n",
    "    \n",
    "    \n",
    "    gold_select = driver.find_element(By.CSS_SELECTOR,f'div[data-symbol-short=\"GOLD\"]')\n",
    "    gold_select.click()\n",
    "    sleep(5)\n",
    "    eantr_symbol = driver.find_element(By.CLASS_NAME,'content-D4RPB3ZC')\n",
    "    eantr_symbol.click()\n",
    "except Exception as e:\n",
    "    print(\"خطا:\", str(e))\n"
   ]
  },
  {
   "cell_type": "code",
   "execution_count": 28,
   "id": "117cf1ea-aa6a-4fe0-9c0f-56396328c654",
   "metadata": {},
   "outputs": [
    {
     "name": "stdout",
     "output_type": "stream",
     "text": [
      "https://www.tradingview.com/chart/6CvVcYHI/?symbol=TVC%3AGOLD\n"
     ]
    }
   ],
   "source": [
    "driver.switch_to.window(driver.window_handles[1])\n",
    "print(driver.current_url)"
   ]
  },
  {
   "cell_type": "code",
   "execution_count": 30,
   "id": "ca977a41-7dc4-4f0a-9947-94ddc7711360",
   "metadata": {},
   "outputs": [
    {
     "name": "stdout",
     "output_type": "stream",
     "text": [
      "در حال اجرا...\n",
      "منتظر زمان مناسب...\n",
      "منتظر زمان مناسب...\n"
     ]
    }
   ],
   "source": [
    "def get_price():\n",
    "    \"\"\"دریافت قیمت‌های کندل\"\"\"\n",
    "    print('f')\n",
    "    selecte_name1 = driver.find_element(By.XPATH, '/html/body/div[2]/div/div[5]/div[1]/div[1]/div/div[2]/div[1]/div[2]/div/div[1]/div[1]/div[1]/div[2]/div/div[2]/div[2]')\n",
    "    selecte_name2 = driver.find_element(By.XPATH, '/html/body/div[2]/div/div[5]/div[1]/div[1]/div/div[2]/div[1]/div[2]/div/div[1]/div[1]/div[1]/div[2]/div/div[3]/div[2]')\n",
    "    selecte_name3 = driver.find_element(By.XPATH, '/html/body/div[2]/div/div[5]/div[1]/div[1]/div/div[2]/div[1]/div[2]/div/div[1]/div[1]/div[1]/div[2]/div/div[4]/div[2]')\n",
    "    selecte_name4 = driver.find_element(By.XPATH, '/html/body/div[2]/div/div[5]/div[1]/div[1]/div/div[2]/div[1]/div[2]/div/div[1]/div[1]/div[1]/div[2]/div/div[5]/div[2]')\n",
    "\n",
    "    open_price = float(selecte_name1.text.replace(',', ''))\n",
    "    high_price = float(selecte_name2.text.replace(',', ''))\n",
    "    low_price = float(selecte_name3.text.replace(',', ''))\n",
    "    close_price = float(selecte_name4.text.replace(',', ''))\n",
    "\n",
    "    position = 'R' if open_price - close_price >= 0 else 'G'\n",
    "\n",
    "    return [datetime.now().strftime(\"%Y-%m-%d %H:%M:%S\"), open_price, high_price, low_price, close_price, position]\n",
    "\n",
    "def save_last_candle():\n",
    "    \"\"\"ذخیره آخرین کندل در لیست و فایل\"\"\"\n",
    "    new_price = get_price()\n",
    "    price_history.append(new_price)\n",
    "    save_to_csv()\n",
    "    print(\"کندل ذخیره شد:\", new_price)\n",
    "\n",
    "def generate_45_minute_times(start_hour=2, start_minute=30, num_times=20):\n",
    "    start_time = datetime(datetime.now().year, datetime.now().month, datetime.now().day, start_hour, start_minute)\n",
    "    return [start_time + timedelta(minutes=5 * i) for i in range(num_times)]\n",
    "\n",
    "def time_to_next_45_minutes():\n",
    "    now = datetime.now()\n",
    "    times = generate_45_minute_times()\n",
    "    for time in times:\n",
    "        if now < time:\n",
    "            remaining_time = time - now\n",
    "            return remaining_time.seconds // 60, remaining_time.seconds % 60\n",
    "    return None, None\n",
    "\n",
    "def is_time_in_range():\n",
    "    now = datetime.now()\n",
    "    return (now.hour > 2 or (now.hour == 2 and now.minute >= 30)) or (now.hour < 1 or (now.hour == 1 and now.minute <= 30))\n",
    "\n",
    "print(\"در حال اجرا...\")\n",
    "\n",
    "for i in range(2):\n",
    "    now = datetime.now()\n",
    "\n",
    "    if is_time_in_range():\n",
    "        min_left, sec_left = time_to_next_45_minutes()\n",
    "\n",
    "        if min_left is not None and sec_left is not None:\n",
    "            print(f\"زمان باقی‌مانده: {min_left} دقیقه و {sec_left} ثانیه\")\n",
    "\n",
    "            if min_left == 0 and sec_left <= 5:\n",
    "                print(\"ذخیره کندل...\")\n",
    "                save_last_candle()\n",
    "            \n",
    "            sleep(10)  # کاهش فشار بر سیستم\n",
    "        else:\n",
    "            print(\"منتظر زمان مناسب...\")\n",
    "            sleep(60)\n",
    "    else:\n",
    "        print(\"خارج از محدوده زمانی مجاز! توقف ۱ ساعته...\")\n",
    "        sleep(3600)"
   ]
  }
 ],
 "metadata": {
  "kernelspec": {
   "display_name": "Python 3 (ipykernel)",
   "language": "python",
   "name": "python3"
  },
  "language_info": {
   "codemirror_mode": {
    "name": "ipython",
    "version": 3
   },
   "file_extension": ".py",
   "mimetype": "text/x-python",
   "name": "python",
   "nbconvert_exporter": "python",
   "pygments_lexer": "ipython3",
   "version": "3.10.12"
  }
 },
 "nbformat": 4,
 "nbformat_minor": 5
}
