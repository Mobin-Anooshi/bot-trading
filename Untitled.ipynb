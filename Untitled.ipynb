{
 "cells": [
  {
   "cell_type": "code",
   "execution_count": 1,
   "id": "339955fe-5459-49de-ba75-662ff94c0345",
   "metadata": {},
   "outputs": [],
   "source": [
    "from selenium import webdriver\n",
    "from selenium.webdriver.common.by import By\n",
    "from selenium.webdriver.common.keys import Keys\n",
    "from selenium.webdriver.support.ui import WebDriverWait\n",
    "from selenium.webdriver.support import expected_conditions as EC\n",
    "from time import sleep\n",
    "import time\n",
    "from selenium.webdriver.chrome.options import Options\n",
    "import requests\n",
    "import sys\n",
    "from datetime import datetime\n",
    "import pytz"
   ]
  },
  {
   "cell_type": "code",
   "execution_count": 2,
   "id": "bdca92ea-5343-47fc-89cd-cd4d1e693863",
   "metadata": {},
   "outputs": [
    {
     "name": "stdout",
     "output_type": "stream",
     "text": [
      "ورود موفقیت‌آمیز!\n"
     ]
    },
    {
     "name": "stdin",
     "output_type": "stream",
     "text": [
      "ok? ---------->  \n"
     ]
    }
   ],
   "source": [
    "driver = webdriver.Chrome()\n",
    "\n",
    "try:\n",
    "    # 1. باز کردن وب‌سایت TradingView\n",
    "\n",
    "    driver.get(\"https://www.tradingview.com/\")\n",
    "\n",
    "    # 2. کلیک روی دکمه \"Log in\"\n",
    "    www = driver.find_element(By.CLASS_NAME,'tv-header__user-menu-button')\n",
    "    www.click()\n",
    "    sleep(5)\n",
    "    login_button = driver.find_element(By.CSS_SELECTOR, \"button[data-name='header-user-menu-sign-in']\")\n",
    "    login_button.click()\n",
    "    \n",
    "\n",
    "    sleep(5)\n",
    "\n",
    "\n",
    "    iframe = driver.find_element(By.NAME, \"Email\")\n",
    "\n",
    "    iframe.click()\n",
    "\n",
    "    username = driver.find_element(By.NAME, \"id_username\")\n",
    "    password = driver.find_element(By.NAME, \"id_password\")\n",
    "    username.send_keys(\"me.anooshi@gmail.com\")  # نام کاربری خود را اینجا وارد کنید\n",
    "    password.send_keys(\"mobin@nooshi2003\")  # رمز عبور خود را اینجا وارد کنید\n",
    "    password.send_keys(Keys.RETURN)\n",
    "\n",
    "    driver.switch_to.default_content()\n",
    "\n",
    "\n",
    "\n",
    "    print(\"ورود موفقیت‌آمیز!\")\n",
    "    input('ok? ----------> ') # منتظر تایید کپچا\n",
    "    sleep(5)\n",
    "except :\n",
    "    print(\"error\")"
   ]
  },
  {
   "cell_type": "code",
   "execution_count": 3,
   "id": "112decd4-3750-415a-828e-47ff7c310a58",
   "metadata": {},
   "outputs": [],
   "source": [
    "gold_select = driver.find_element(By.CSS_SELECTOR,f'div[data-symbol-short=\"GOLD\"]')\n",
    "gold_select.click()\n",
    "sleep(5)\n",
    "eantr_symbol = driver.find_element(By.CLASS_NAME,'content-D4RPB3ZC')\n",
    "eantr_symbol.click()"
   ]
  },
  {
   "cell_type": "code",
   "execution_count": 5,
   "id": "88f44e53-085f-449f-a782-38877db33a0d",
   "metadata": {},
   "outputs": [
    {
     "name": "stdout",
     "output_type": "stream",
     "text": [
      "https://www.tradingview.com/chart/6CvVcYHI/?symbol=TVC%3AGOLD\n"
     ]
    }
   ],
   "source": [
    "# re_price = \n",
    "driver.switch_to.window(driver.window_handles[1])\n",
    "print(driver.current_url)\n",
    "last_price = {\n",
    "    'Open':0,\n",
    "    'High':0,\n",
    "    'Low':0,\n",
    "    'Close':0,\n",
    "    'Position': 'G'\n",
    "}\n"
   ]
  },
  {
   "cell_type": "code",
   "execution_count": 6,
   "id": "d689be15-841d-4520-b89a-93c2e46159a8",
   "metadata": {},
   "outputs": [
    {
     "name": "stdout",
     "output_type": "stream",
     "text": [
      "{'Open': 0, 'High': 0, 'Low': 0, 'Close': 0, 'Position': 'G'}\n",
      "{'Open': 2914.717, 'High': 2914.88, 'Low': 2913.455, 'Close': 2913.75, 'Position': 'R'}\n",
      "{'Open': 2913.82, 'High': 2914.5, 'Low': 2913.485, 'Close': 2914.2, 'Position': 'G'}\n",
      "{'Open': 2918.635, 'High': 2918.96, 'Low': 2917.805, 'Close': 2918.39, 'Position': 'R'}\n",
      "BUUUUUUUUUUUUYYYYYYYYYYYYY\n",
      "{'Open': 2918.015, 'High': 2918.29, 'Low': 2917.045, 'Close': 2918.28, 'Position': 'G'}\n",
      "{'Open': 2919.4, 'High': 2919.58, 'Low': 2918.345, 'Close': 2918.809, 'Position': 'R'}\n",
      "{'Open': 2918.94, 'High': 2919.89, 'Low': 2918.785, 'Close': 2919.32, 'Position': 'G'}\n",
      "{'Open': 2919.05, 'High': 2919.21, 'Low': 2918.698, 'Close': 2919.16, 'Position': 'G'}\n",
      "{'Open': 2919.05, 'High': 2919.21, 'Low': 2918.698, 'Close': 2919.13, 'Position': 'G'}\n",
      "{'Open': 2919.05, 'High': 2919.34, 'Low': 2918.698, 'Close': 2919.32, 'Position': 'G'}\n",
      "{'Open': 2919.05, 'High': 2919.35, 'Low': 2918.625, 'Close': 2919.05, 'Position': 'R'}\n",
      "{'Open': 2919.05, 'High': 2919.35, 'Low': 2918.625, 'Close': 2919.01, 'Position': 'R'}\n",
      "{'Open': 2919.05, 'High': 2919.35, 'Low': 2918.625, 'Close': 2919.197, 'Position': 'G'}\n",
      "{'Open': 2919.23, 'High': 2919.27, 'Low': 2918.828, 'Close': 2919.21, 'Position': 'R'}\n",
      "{'Open': 2919.23, 'High': 2919.27, 'Low': 2918.828, 'Close': 2918.948, 'Position': 'R'}\n",
      "BUUUUUUUUUUUUYYYYYYYYYYYYY\n",
      "{'Open': 2919.23, 'High': 2919.3, 'Low': 2918.779, 'Close': 2919.24, 'Position': 'G'}\n",
      "{'Open': 2919.23, 'High': 2919.63, 'Low': 2918.779, 'Close': 2919.45, 'Position': 'G'}\n"
     ]
    }
   ],
   "source": [
    "from time import sleep\n",
    "def get_price():\n",
    "    selecte_name1 = driver.find_element(By.XPATH, '/html/body/div[2]/div/div[5]/div[1]/div[1]/div/div[2]/div[1]/div[2]/div/div[1]/div[1]/div[1]/div[2]/div/div[2]/div[2]')\n",
    "    # print(f\"Open {selecte_name1.text}\")\n",
    "    selecte_name2 = driver.find_element(By.XPATH, '/html/body/div[2]/div/div[5]/div[1]/div[1]/div/div[2]/div[1]/div[2]/div/div[1]/div[1]/div[1]/div[2]/div/div[3]/div[2]')\n",
    "    # print(f\"High {selecte_name2.text}\")\n",
    "    selecte_name3 = driver.find_element(By.XPATH, '/html/body/div[2]/div/div[5]/div[1]/div[1]/div/div[2]/div[1]/div[2]/div/div[1]/div[1]/div[1]/div[2]/div/div[4]/div[2]')\n",
    "    # print(f\"Low {selecte_name3.text}\")\n",
    "    selecte_name4 = driver.find_element(By.XPATH, '/html/body/div[2]/div/div[5]/div[1]/div[1]/div/div[2]/div[1]/div[2]/div/div[1]/div[1]/div[1]/div[2]/div/div[5]/div[2]')\n",
    "    # print(f\"Close {selecte_name4.text}\")\n",
    "    p = float(selecte_name1.text.replace(',','')) - float(selecte_name4.text.replace(',',''))\n",
    "    if p>=0:\n",
    "        position = 'R'\n",
    "    else:\n",
    "        position = 'G'\n",
    "        \n",
    "    candel_0 = {\n",
    "        'Open':float(selecte_name1.text.replace(',','')),\n",
    "        'High':float(selecte_name2.text.replace(',','')),\n",
    "        'Low':float(selecte_name3.text.replace(',','')),\n",
    "        'Close':float(selecte_name4.text.replace(',','')),\n",
    "        'Position': position\n",
    "    }\n",
    "    # print(candel_0)\n",
    "    return candel_0\n",
    "print(last_price)\n",
    "# print(get_price())\n",
    "def save_last_candel():\n",
    "    global last_price\n",
    "    new_price = get_price()\n",
    "    if last_price['Position'] == 'G':\n",
    "        last_price = new_price\n",
    "    if last_price['Position'] == 'R':\n",
    "        if new_price['Position'] == 'R':\n",
    "            last_price = new_price\n",
    "        if new_price['Position'] == 'G':\n",
    "            if last_price['Low'] > new_price['Low']:\n",
    "                print('BUUUUUUUUUUUUYYYYYYYYYYYYY')\n",
    "                last_price = new_price\n",
    "            else :\n",
    "                last_price = new_price\n",
    "    print(last_price)\n",
    "for i in range(16):\n",
    "    sleep(10)\n",
    "    save_last_candel()"
   ]
  },
  {
   "cell_type": "code",
   "execution_count": 12,
   "id": "ac802b4d-4e82-41b7-960b-eb1eab781722",
   "metadata": {},
   "outputs": [
    {
     "name": "stdout",
     "output_type": "stream",
     "text": [
      "(44, 53)\n",
      "R\n"
     ]
    }
   ],
   "source": [
    "from datetime import datetime, timedelta\n",
    "\n",
    "\n",
    "def generate_45_minute_times(start_hour=2, start_minute=30, num_times=20):\n",
    "    start_time = datetime(datetime.now().year, datetime.now().month, datetime.now().day, start_hour, start_minute)\n",
    "    times = []\n",
    "    for i in range(num_times):\n",
    "        times.append(start_time + timedelta(minutes=45 * i))\n",
    "    return times\n",
    "\n",
    "def time_to_next_45_minutes():\n",
    "    now = datetime.now()\n",
    "\n",
    "\n",
    "    times = generate_45_minute_times()\n",
    "\n",
    "\n",
    "    while times[-1] < now:\n",
    "        times = generate_45_minute_times(num_times=len(times) + 10) \n",
    "\n",
    "    for time in times:\n",
    "        if now < time:\n",
    "            remaining_time = time - now\n",
    "            remaining_minutes = remaining_time.seconds // 60\n",
    "            remaining_seconds = remaining_time.seconds % 60\n",
    "            return remaining_minutes ,remaining_seconds\n",
    "\n",
    "\n",
    "min_left,sec_left = time_to_next_45_minutes()\n",
    "\n",
    "def save_last_candel(min_left,sec_left):\n",
    "    if int(min_left) < 45 and int(sec_left)<59:\n",
    "        po = float(candel_0['Open'].replace(',','')) - float(candel_0['Close'].replace(',','')) \n",
    "        if po >=0 :\n",
    "            print('R')\n",
    "        else:\n",
    "            print('G')\n",
    "\n",
    "        \n",
    "print(f\"{min_left,sec_left }\")\n",
    "save_last_candel(min_left,sec_left)"
   ]
  },
  {
   "cell_type": "code",
   "execution_count": 96,
   "id": "f4618f8a-25b4-470e-b544-9a41f682c7c3",
   "metadata": {},
   "outputs": [
    {
     "name": "stdout",
     "output_type": "stream",
     "text": [
      "{'Open': 2919.85, 'High': 2920.89, 'Low': 2917.045, 'Close': 2920.346, 'Position': 'G'}\n"
     ]
    }
   ],
   "source": [
    "def save_last_candel():\n",
    "    global last_price\n",
    "    new_price = get_price()\n",
    "    if last_price['Position'] == 'G':\n",
    "        last_price = new_price\n",
    "    if last_price['Position'] == 'R':\n",
    "        if new_price['Position'] == 'R':\n",
    "            last_price = new_price\n",
    "        if new_price['Position'] == 'G':\n",
    "            if last_price['Low'] > new_price['Low']:\n",
    "                print('BUUUUUUUUUUUUYYYYYYYYYYYYY')\n",
    "            else :\n",
    "                last_price = new_price\n",
    "    print(last_price)\n",
    "save_last_candel()"
   ]
  }
 ],
 "metadata": {
  "kernelspec": {
   "display_name": "Python 3 (ipykernel)",
   "language": "python",
   "name": "python3"
  },
  "language_info": {
   "codemirror_mode": {
    "name": "ipython",
    "version": 3
   },
   "file_extension": ".py",
   "mimetype": "text/x-python",
   "name": "python",
   "nbconvert_exporter": "python",
   "pygments_lexer": "ipython3",
   "version": "3.10.12"
  }
 },
 "nbformat": 4,
 "nbformat_minor": 5
}
